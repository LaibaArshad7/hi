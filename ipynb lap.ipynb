{
 "cells": [
  {
   "cell_type": "code",
   "execution_count": 1,
   "id": "4bef6e92",
   "metadata": {},
   "outputs": [
    {
     "name": "stdout",
     "output_type": "stream",
     "text": [
      "Twinkle,twinkle,little star,\n",
      "             How I wonder what you are!\n",
      "                      Up above the world so high,\n",
      "                      Like a diamond in the sky.\n",
      "     Twinkle,twinkle,little star,\n",
      "             How I wonder what you are\n"
     ]
    }
   ],
   "source": [
    "O='''Twinkle,twinkle,little star,\n",
    "             How I wonder what you are!\n",
    "                      Up above the world so high,\n",
    "                      Like a diamond in the sky.\n",
    "     Twinkle,twinkle,little star,\n",
    "             How I wonder what you are'''\n",
    "print(O);"
   ]
  },
  {
   "cell_type": "code",
   "execution_count": 2,
   "id": "a15cba9d",
   "metadata": {},
   "outputs": [
    {
     "name": "stdout",
     "output_type": "stream",
     "text": [
      "python version\n",
      "3.8.8 (default, Apr 13 2021, 15:08:03) [MSC v.1916 64 bit (AMD64)]\n",
      "python information\n",
      "sys.version_info(major=3, minor=8, micro=8, releaselevel='final', serial=0)\n"
     ]
    }
   ],
   "source": [
    "import sys;\n",
    "print(\"python version\");\n",
    "print(sys.version);\n",
    "print(\"python information\");\n",
    "print(sys.version_info);"
   ]
  },
  {
   "cell_type": "code",
   "execution_count": 3,
   "id": "e43752c6",
   "metadata": {},
   "outputs": [
    {
     "name": "stdout",
     "output_type": "stream",
     "text": [
      "Current date and time is :\n",
      "21-11-13 14:40:29\n"
     ]
    }
   ],
   "source": [
    "import datetime;\n",
    "now=datetime.datetime.now()\n",
    "print(\"Current date and time is :\");\n",
    "print(now.strftime(\"%y-%m-%d %H:%M:%S\"));"
   ]
  },
  {
   "cell_type": "code",
   "execution_count": 4,
   "id": "6d45ea16",
   "metadata": {},
   "outputs": [
    {
     "name": "stdout",
     "output_type": "stream",
     "text": [
      "enter the area of a circle56\n",
      "The radius of a circle is :  9852.03456165759\n"
     ]
    }
   ],
   "source": [
    "import math;\n",
    "radius=float(input(\"enter the area of a circle\"))\n",
    "area=math.pi*radius*radius;\n",
    "print(\"The radius of a circle is : \",area);"
   ]
  },
  {
   "cell_type": "code",
   "execution_count": 5,
   "id": "ca8f923e",
   "metadata": {},
   "outputs": [
    {
     "name": "stdout",
     "output_type": "stream",
     "text": [
      "enter your first name/nmiss\n",
      "enter your last name/nlaiba\n",
      "ssim abial\n"
     ]
    }
   ],
   "source": [
    "fname=(input(\"enter your first name/n\"))[::-1];\n",
    "lname=(input(\"enter your last name/n\"))[::-1];\n",
    "print(fname+\" \"+lname);"
   ]
  },
  {
   "cell_type": "code",
   "execution_count": 6,
   "id": "d9e9d3a0",
   "metadata": {},
   "outputs": [
    {
     "name": "stdout",
     "output_type": "stream",
     "text": [
      "enter your first number50\n",
      "enter your second number50\n",
      "The sum of two number is : 100\n"
     ]
    }
   ],
   "source": [
    "o=int(input(\"enter your first number\"));\n",
    "l=int(input(\"enter your second number\"));\n",
    "print(\"The sum of two number is :\",o+l);"
   ]
  },
  {
   "cell_type": "code",
   "execution_count": 7,
   "id": "8d6ba565",
   "metadata": {},
   "outputs": [
    {
     "name": "stdout",
     "output_type": "stream",
     "text": [
      "enter your number68\n",
      "68 is an even number\n"
     ]
    }
   ],
   "source": [
    "num=int(input(\"enter your number\"));\n",
    "remainder=num%2;\n",
    "if remainder ==0:\n",
    "    print(num ,\"is an even number\");\n",
    "else:\n",
    "    print(num ,\"is an odd number\");"
   ]
  },
  {
   "cell_type": "code",
   "execution_count": 8,
   "id": "578b24ca",
   "metadata": {},
   "outputs": [
    {
     "name": "stdout",
     "output_type": "stream",
     "text": [
      "your grade is A\n"
     ]
    }
   ],
   "source": [
    "math=90;\n",
    "english=78;\n",
    "urdu=67;\n",
    "science=65;\n",
    "pst=54;\n",
    "total=math+english+urdu+science+pst;\n",
    "average=total/5;\n",
    "if average >=90 and average <=100:\n",
    "    print(\"your grade is A+1\");\n",
    "elif average >=80 and average <=90:\n",
    "    print(\"your grade is A+\");\n",
    "elif average >=70 and average <=80:\n",
    "    print(\"your grade is A\");\n",
    "elif average >=60 and average <=70:\n",
    "    print(\"your grade is B\");\n",
    "elif average >=50 and average <=60:\n",
    "    print(\"your grade is C\");\n",
    "elif average >=40 and average <=50:\n",
    "    print(\"your grade is D\");\n",
    "elif average >=33 and average <=40:\n",
    "    print(\"your grade is E\");\n",
    "elif average <=32:\n",
    "    print(\"Fail\");\n",
    "else:\n",
    "    print(\"invalid marks\");"
   ]
  },
  {
   "cell_type": "code",
   "execution_count": 9,
   "id": "e473cdb8",
   "metadata": {},
   "outputs": [
    {
     "name": "stdout",
     "output_type": "stream",
     "text": [
      "11\n"
     ]
    }
   ],
   "source": [
    "a = [1, 1, 2, 3, 5, 8, 13, 21, 34, 55, 89] \n",
    "print(len(a));"
   ]
  },
  {
   "cell_type": "code",
   "execution_count": 10,
   "id": "76419773",
   "metadata": {},
   "outputs": [
    {
     "name": "stdout",
     "output_type": "stream",
     "text": [
      "232\n"
     ]
    }
   ],
   "source": [
    "a = [1, 1, 2, 3, 5, 8, 13, 21, 34, 55, 89] \n",
    "print(sum(a));"
   ]
  },
  {
   "cell_type": "code",
   "execution_count": 11,
   "id": "e2edef82",
   "metadata": {},
   "outputs": [
    {
     "name": "stdout",
     "output_type": "stream",
     "text": [
      "89\n"
     ]
    }
   ],
   "source": [
    "a = [1, 1, 2, 3, 5, 8, 13, 21, 34, 55, 89]\n",
    "largest_num=max(a);\n",
    "print(largest_num);"
   ]
  },
  {
   "cell_type": "code",
   "execution_count": 12,
   "id": "96cf357c",
   "metadata": {},
   "outputs": [
    {
     "name": "stdout",
     "output_type": "stream",
     "text": [
      "[1, 1, 2, 3]\n"
     ]
    }
   ],
   "source": [
    "a = [1, 1, 2, 3, 5, 8, 13, 21, 34, 55, 89] \n",
    "print([x for x in a if x<5]);"
   ]
  },
  {
   "cell_type": "code",
   "execution_count": null,
   "id": "dfe4c7ff",
   "metadata": {},
   "outputs": [],
   "source": []
  }
 ],
 "metadata": {
  "kernelspec": {
   "display_name": "Python 3",
   "language": "python",
   "name": "python3"
  },
  "language_info": {
   "codemirror_mode": {
    "name": "ipython",
    "version": 3
   },
   "file_extension": ".py",
   "mimetype": "text/x-python",
   "name": "python",
   "nbconvert_exporter": "python",
   "pygments_lexer": "ipython3",
   "version": "3.8.8"
  }
 },
 "nbformat": 4,
 "nbformat_minor": 5
}
